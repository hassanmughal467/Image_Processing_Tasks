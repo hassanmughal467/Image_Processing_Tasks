{
 "cells": [
  {
   "cell_type": "code",
   "execution_count": 4,
   "metadata": {},
   "outputs": [],
   "source": [
    "from PIL import Image\n",
    "import argparse\n",
    "import cv2\n",
    "import os\n",
    "import numpy as np\n",
    "import glob\n",
    "import matplotlib.pyplot as plt\n",
    "import urllib.request,urllib.parse,urllib.error\n",
    "import requests\n",
    "import io\n",
    "import ssl\n",
    "import pytesseract as tess\n"
   ]
  },
  {
   "cell_type": "code",
   "execution_count": 5,
   "metadata": {},
   "outputs": [
    {
     "data": {
      "text/plain": [
       "['images\\\\example_01.png', 'images\\\\example_02.png']"
      ]
     },
     "execution_count": 5,
     "metadata": {},
     "output_type": "execute_result"
    }
   ],
   "source": [
    "glob.glob(\"images/*.png\")"
   ]
  },
  {
   "cell_type": "code",
   "execution_count": 6,
   "metadata": {},
   "outputs": [],
   "source": [
    "img=cv2.imread(\"images//example_01.png\")"
   ]
  },
  {
   "cell_type": "code",
   "execution_count": 7,
   "metadata": {},
   "outputs": [
    {
     "name": "stdout",
     "output_type": "stream",
     "text": [
      "(250, 500, 3)\n"
     ]
    }
   ],
   "source": [
    "print(img.shape)"
   ]
  },
  {
   "cell_type": "code",
   "execution_count": 8,
   "metadata": {},
   "outputs": [
    {
     "data": {
      "text/plain": [
       "<matplotlib.image.AxesImage at 0x22b9f6290f0>"
      ]
     },
     "execution_count": 8,
     "metadata": {},
     "output_type": "execute_result"
    },
    {
     "data": {
      "image/png": "[encoded data removed]",
      "text/plain": [
       "<Figure size 432x288 with 1 Axes>"
      ]
     },
     "metadata": {
      "needs_background": "light"
     },
     "output_type": "display_data"
    }
   ],
   "source": [
    "plt.imshow(img)"
   ]
  },
  {
   "cell_type": "code",
   "execution_count": 9,
   "metadata": {},
   "outputs": [],
   "source": [
    "#Cutting images"
   ]
  },
  {
   "cell_type": "code",
   "execution_count": 10,
   "metadata": {},
   "outputs": [],
   "source": [
    "width,height, _=img.shape\n",
    "m=img[0:height,300:width]"
   ]
  },
  {
   "cell_type": "code",
   "execution_count": 11,
   "metadata": {},
   "outputs": [],
   "source": [
    "#plt.imshow(m)"
   ]
  },
  {
   "cell_type": "code",
   "execution_count": 15,
   "metadata": {},
   "outputs": [
    {
     "name": "stdout",
     "output_type": "stream",
     "text": [
      "Noisyimage\n",
      "to test\n",
      "Tesseract OCR\n"
     ]
    }
   ],
   "source": [
    "tess.pytesseract.tesseract_cmd=r\"C:\\Program Files\\Tesseract-OCR\\tesseract\"\n",
    "print(tess.image_to_string(Image.open(\"images//example_01.png\"),lang=\"eng\"))"
   ]
  },
  {
   "cell_type": "code",
   "execution_count": 17,
   "metadata": {},
   "outputs": [
    {
     "name": "stdout",
     "output_type": "stream",
     "text": [
      "PREREQUISITES\n",
      "\n",
      "In order to make the most of this, you will need to have\n",
      "alittle bit of programming experience. All examples in this\n",
      "book are in the Python programming language. Familiarity\n",
      "with Python or other scripting languages is suggested, but\n",
      "not required.\n",
      "\n",
      "You'll also need to know some basic mathematics. This\n",
      "book is hands-on and example driven: lots of examples and\n",
      "lots of code, so even if your math skills are not up to par,\n",
      "do not worry! The examples are very detailed and heavily\n",
      "documented to help you follow along.\n"
     ]
    }
   ],
   "source": [
    "print(tess.image_to_string(Image.open(\"example_03.png\"),lang=\"eng\"))"
   ]
  },
  {
   "cell_type": "code",
   "execution_count": 18,
   "metadata": {},
   "outputs": [
    {
     "name": "stdout",
     "output_type": "stream",
     "text": [
      "1. How large of a puzzle can your program typically solve within 10 seconds using A*?\n",
      "Using greedy hill Climbing?\n",
      "2. What is the effective branching factor? For this computation, perform 10 runs of a\n",
      "puzzle half the maximum size you calculated for step #1.\n",
      "a. Compute the branching factor using H1 for A* and greedy search\n",
      "b. Compute the branching factor using H2 for A* and greedy search\n",
      "3. Which approach comes up with cheaper solution paths? Why?\n",
      "4. Which approach typically takes less time? Why?\n",
      "5. Either prove the heuristic for A* is admissible, or provide a counterexample\n",
      "demonstrating that it is not.\n",
      "\n",
      "Part 2. Urban planning\n",
      "\n",
      "The problem\n",
      "\n",
      "For this problem, you will use hill climbing and genetic algorithms to determine the ideal location\n",
      "of industry, commerce, and residential zones in a city. You will input a map with the following\n",
      "\n",
      "symbols:\n",
      "e xX: former toxic waste site. Industrial zones within 2 tiles take a penalty of -10.\n",
      "Commercial and residential zones within 2 tiles take a penalty of -20. You cannot build\n",
      "\n",
      "directly on a toxic waste site.\n",
      "e S: scenic view. Residential zones within 2 tiles gain a bonus of 10 points. If you wish,\n",
      "\n",
      "you can build on a scenic site but it destroys the view. Building on a scenic view has a\n",
      "\n",
      "cost of 1.\n",
      "e 1..9: how difficult it is to build on that square. To build a zone on any square costs\n",
      "\n",
      "2+difficulty. So building a Commercial zone on a square of difficulty 6 costs 8 points.\n",
      "You will receive a penalty of that many points to put any zone on that square.\n",
      "\n",
      "You will have to place industrial, residential, and commercial tiles on the terrain.\n",
      "e Industrial tiles benefit from being near other industry. For each industrial tile within 2\n",
      "\n",
      "squares, there is a bonus of 2 points.\n",
      "e Commercial sites benefit from being near residential tiles. For each residential tile within\n",
      "\n",
      "3 squares, there is a bonus of 4 points. However, commercial sites do not like\n",
      "competition. For each commercial site with 2 squares, there is a penalty of 4 points.\n",
      "e Residential sites do not like being near industrial sites. For each industrial site within 3\n",
      "\n",
      "squares there is a penalty of 5 points. However, for each commercial site with 3 squares\n",
      "there is a bonus of 4 points.\n",
      "\n",
      "Note that all distances use the Manhattan distance approach. So distance is computed in terms\n",
      "of moves left/right and up/down, not diagonal movement.\n"
     ]
    }
   ],
   "source": [
    "print(tess.image_to_string(Image.open(\"3.png\"),lang=\"eng\"))"
   ]
  },
  {
   "cell_type": "code",
   "execution_count": null,
   "metadata": {},
   "outputs": [
    {
     "name": "stdout",
     "output_type": "stream",
     "text": [
      "Noisy image\r\n",
      "to test\r\n",
      "Tesseract OCR\r\n",
      "\n"
     ]
    }
   ],
   "source": [
    "import cv2\n",
    "import numpy as np\n",
    "import requests\n",
    "import io\n",
    "import json\n",
    "\n",
    "img = cv2.imread(\"images//example_01.png\")\n",
    "height, width, _ = img.shape\n",
    "\n",
    "# Cutting image\n",
    "# roi = img[0: height, 400: width]\n",
    "roi = img\n",
    "\n",
    "# Ocr\n",
    "url_api = \"https://api.ocr.space/parse/image\"\n",
    "_, compressedimage = cv2.imencode(\".png\", roi, [1, 90])\n",
    "file_bytes = io.BytesIO(compressedimage)\n",
    "\n",
    "result = requests.post(url_api,\n",
    "              files = {\"images//example_01.png\": file_bytes},\n",
    "              data = {\"apikey\": \"44681819b288957\",\n",
    "                      \"language\": \"eng\"})\n",
    "\n",
    "result = result.content.decode()\n",
    "result = json.loads(result)\n",
    "\n",
    "parsed_results = result.get(\"ParsedResults\")[0]\n",
    "text_detected = parsed_results.get(\"ParsedText\")\n",
    "print(text_detected)\n",
    "\n",
    "cv2.imshow(\"roi\", roi)\n",
    "cv2.imshow(\"Img\", img)\n",
    "cv2.waitKey(0)\n",
    "cv2.destroyAllWindows()"
   ]
  },
  {
   "cell_type": "code",
   "execution_count": null,
   "metadata": {},
   "outputs": [],
   "source": []
  }
 ],
 "metadata": {
  "kernelspec": {
   "display_name": "Python 3",
   "language": "python",
   "name": "python3"
  },
  "language_info": {
   "codemirror_mode": {
    "name": "ipython",
    "version": 3
   },
   "file_extension": ".py",
   "mimetype": "text/x-python",
   "name": "python",
   "nbconvert_exporter": "python",
   "pygments_lexer": "ipython3",
   "version": "3.7.3"
  }
 },
 "nbformat": 4,
 "nbformat_minor": 2
}
